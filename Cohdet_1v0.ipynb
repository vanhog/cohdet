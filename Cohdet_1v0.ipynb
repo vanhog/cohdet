{
 "cells": [
  {
   "cell_type": "markdown",
   "metadata": {},
   "source": [
    "# Cohdet tester\n",
    "\n",
    "This notebook should be used to test and get a glimpse of cohdet's functions for automatically process Sentinel-1 SCL data down to coherence estimations. "
   ]
  },
  {
   "cell_type": "markdown",
   "metadata": {},
   "source": [
    "## Prerequisits"
   ]
  },
  {
   "cell_type": "code",
   "execution_count": 4,
   "metadata": {},
   "outputs": [],
   "source": [
    "import cohdet as ch"
   ]
  },
  {
   "cell_type": "markdown",
   "metadata": {},
   "source": [
    "## Update local repository"
   ]
  },
  {
   "cell_type": "code",
   "execution_count": null,
   "metadata": {},
   "outputs": [],
   "source": [
    "ch.update_repo()"
   ]
  },
  {
   "cell_type": "markdown",
   "metadata": {},
   "source": [
    "# Inputs"
   ]
  },
  {
   "cell_type": "markdown",
   "metadata": {},
   "source": [
    "An online tool to generae a footprint polygon can be found at https://arthur-e.github.io/Wicket/sandbox-gmaps3.html"
   ]
  },
  {
   "cell_type": "code",
   "execution_count": 5,
   "metadata": {},
   "outputs": [
    {
     "name": "stdout",
     "output_type": "stream",
     "text": [
      "{'base_dir': 'C:\\\\Users\\\\post\\\\Documents\\\\SnappyAnaconda', 'data': 'data', 'preprocessed': 'preprocessed', 'coregistered': 'coregistered', 'interferograms': 'interferograms', 'start': '20230101', 'latest': '20230618', 'this_user': 'Zefram', 'this_pw': 'wdlo1645', 'footprint': 'POLYGON((55.64636980770905 -21.19862831229225, 55.826270930755925 -21.19862831229225,55.826270930755925 -21.309658056448047, 55.64636980770905 -21.309658056448047,55.64636980770905 -21.19862831229225))', 'sensor_mode': 'SM', 'api_url': 'https://scihub.copernicus.eu/dhus'}\n"
     ]
    }
   ],
   "source": [
    "cohdet_env = ch.read_environment()\n",
    "\n",
    "api_url      = cohdet_env['api_url'] \n",
    "this_user    = cohdet_env['this_user']\n",
    "this_pw      = cohdet_env['this_pw']\n",
    "footprint    = cohdet_env['footprint']\n",
    "start_date   = cohdet_env['start']\n",
    "sensor_mode  = cohdet_env['sensor_mode']\n",
    "\n",
    "print(cohdet_env)"
   ]
  },
  {
   "cell_type": "code",
   "execution_count": null,
   "metadata": {},
   "outputs": [],
   "source": [
    "ch.preprocess_scene('S1A_S6_SLC__1SDV_20230501T145327_20230501T145351_048341_05D063_A9BC.zip',footprint, 'Intensity_VV')"
   ]
  },
  {
   "cell_type": "code",
   "execution_count": null,
   "metadata": {},
   "outputs": [],
   "source": [
    "lr = ch.get_unpreprocessed_scenes()\n",
    "print(lr)\n"
   ]
  },
  {
   "cell_type": "code",
   "execution_count": null,
   "metadata": {},
   "outputs": [],
   "source": [
    "for j in lr:\n",
    "    ch.preprocess_scene(j,footprint, 'Intensity_VV')\n"
   ]
  },
  {
   "cell_type": "code",
   "execution_count": 3,
   "metadata": {},
   "outputs": [
    {
     "name": "stdout",
     "output_type": "stream",
     "text": [
      "C:\\Users\\post\\Documents\\SnappyAnaconda\\preprocessed\\20230501_subset.dim\n",
      "C:\\Users\\post\\Documents\\SnappyAnaconda\\preprocessed\\20230513_subset.dim\n",
      "Creating stack \n",
      "C:\\Users\\post\\Documents\\SnappyAnaconda\\coregistered\\20230501_20230513_coreg\n"
     ]
    }
   ],
   "source": [
    "ch.do_coregistration('20230501_subset','20230513_subset')"
   ]
  },
  {
   "cell_type": "code",
   "execution_count": null,
   "metadata": {},
   "outputs": [],
   "source": []
  }
 ],
 "metadata": {
  "kernelspec": {
   "display_name": "Python 3",
   "language": "python",
   "name": "python3"
  },
  "language_info": {
   "codemirror_mode": {
    "name": "ipython",
    "version": 3
   },
   "file_extension": ".py",
   "mimetype": "text/x-python",
   "name": "python",
   "nbconvert_exporter": "python",
   "pygments_lexer": "ipython3",
   "version": "3.6.10"
  }
 },
 "nbformat": 4,
 "nbformat_minor": 4
}
