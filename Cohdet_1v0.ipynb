{
 "cells": [
  {
   "cell_type": "markdown",
   "metadata": {},
   "source": [
    "# Cohdet tester\n",
    "\n",
    "Cohdet is a set a tools designed to run coherence analysis on SAR interferograms on an automated basis. This notebook should be used to test Cohdet and get a glimpse of its functions. Cohdet was developed to work with Sentinel-1 SCL data.\n",
    "\n",
    "\n",
    "1. Update the local repository\n",
    "2. Do preprocessing: apply orbit file and subset to AOI\n",
    "3. Create interferogram\n",
    "4. Collocate interferogram pairs\n",
    "5. Calculate coherence difference\n",
    "\n",
    "\n"
   ]
  },
  {
   "cell_type": "markdown",
   "metadata": {},
   "source": [
    "## Prerequisits"
   ]
  },
  {
   "cell_type": "code",
   "execution_count": 1,
   "metadata": {},
   "outputs": [],
   "source": [
    "import cohdet as ch"
   ]
  },
  {
   "cell_type": "markdown",
   "metadata": {},
   "source": [
    "# Inputs"
   ]
  },
  {
   "cell_type": "markdown",
   "metadata": {},
   "source": [
    "An online tool to generae a footprint polygon can be found at https://arthur-e.github.io/Wicket/sandbox-gmaps3.html"
   ]
  },
  {
   "cell_type": "code",
   "execution_count": 5,
   "metadata": {},
   "outputs": [],
   "source": [
    "cohdet_env = ch.read_environment()\n",
    "\n",
    "api_url      = cohdet_env['api_url'] \n",
    "this_user    = cohdet_env['this_user']\n",
    "this_pw      = cohdet_env['this_pw']\n",
    "footprint    = cohdet_env['footprint']\n",
    "start_date   = cohdet_env['start']\n",
    "sensor_mode  = cohdet_env['sensor_mode']\n",
    "\n",
    "#print(cohdet_env)"
   ]
  },
  {
   "cell_type": "markdown",
   "metadata": {},
   "source": [
    "## Update local repository"
   ]
  },
  {
   "cell_type": "code",
   "execution_count": 8,
   "metadata": {},
   "outputs": [
    {
     "name": "stdout",
     "output_type": "stream",
     "text": [
      "No new data\n"
     ]
    }
   ],
   "source": [
    "ch.update_repo()"
   ]
  },
  {
   "cell_type": "markdown",
   "metadata": {},
   "source": [
    "## Check for unpreprocessed scenes and do preprocessing\n",
    "\n",
    "Preprocessing is done in two steps in order to limit the number of scenes to preprocessed when working with large amounts of data."
   ]
  },
  {
   "cell_type": "code",
   "execution_count": 9,
   "metadata": {},
   "outputs": [],
   "source": [
    "# Check for unpreprocessed scenes\n",
    "lr = ch.get_unpreprocessed_scenes()\n",
    "\n",
    "for i in lr:\n",
    "    print(i)\n"
   ]
  },
  {
   "cell_type": "code",
   "execution_count": 10,
   "metadata": {},
   "outputs": [],
   "source": [
    "# Do preprocessing\n",
    "for j in lr:\n",
    "    ch.preprocess_scene(j,footprint, 'Intensity_VV')\n"
   ]
  },
  {
   "cell_type": "markdown",
   "metadata": {},
   "source": [
    "# Make interferograms"
   ]
  },
  {
   "cell_type": "code",
   "execution_count": 14,
   "metadata": {},
   "outputs": [
    {
     "name": "stdout",
     "output_type": "stream",
     "text": [
      "C:\\Users\\post\\Documents\\SnappyAnaconda\\preprocessed\\20230618_subset.dim\n",
      "C:\\Users\\post\\Documents\\SnappyAnaconda\\preprocessed\\20230630_subset.dim\n",
      "Creating stack \n",
      "C:\\Users\\post\\Documents\\SnappyAnaconda\\coregistered\\20230618_20230630_stack\n",
      "C:\\Users\\post\\Documents\\SnappyAnaconda\\coregistered\\20230618_20230630_coreg\n",
      "C:\\Users\\post\\Documents\\SnappyAnaconda\\interferograms\\20230618_20230630_interferogram\n",
      "Interferogram: done!\n"
     ]
    }
   ],
   "source": [
    "ch.do_interferogram('20230618_subset','20230630_subset')"
   ]
  },
  {
   "cell_type": "markdown",
   "metadata": {},
   "source": [
    "# Collocate interferograms"
   ]
  },
  {
   "cell_type": "code",
   "execution_count": 17,
   "metadata": {},
   "outputs": [
    {
     "name": "stdout",
     "output_type": "stream",
     "text": [
      "C:\\Users\\post\\Documents\\SnappyAnaconda\\collocated\\20230513_20230525_collocate\n",
      "Collocation: done!\n"
     ]
    }
   ],
   "source": [
    "ch.do_collocation('20230513_20230525_interferogram', '20230525_20230606_interferogram' )"
   ]
  },
  {
   "cell_type": "code",
   "execution_count": 3,
   "metadata": {},
   "outputs": [
    {
     "name": "stdout",
     "output_type": "stream",
     "text": [
      "C:\\Users\\post\\Documents\\SnappyAnaconda\\cohmasks\\q_ifg_VV_25May2023_13May2023_M_i_ifg_VV_25May2023_13May2023_M\n",
      "Mask: done!\n"
     ]
    }
   ],
   "source": [
    "mybands = ch.mask_coh_diff('20230513_20230525_collocate')"
   ]
  },
  {
   "cell_type": "code",
   "execution_count": 4,
   "metadata": {},
   "outputs": [
    {
     "name": "stdout",
     "output_type": "stream",
     "text": [
      "coh_VV_25May2023_13May2023_M\n",
      "coh_VV_06Jun2023_25May2023_S\n"
     ]
    }
   ],
   "source": [
    "for i in mybands:\n",
    "    print(i)"
   ]
  },
  {
   "cell_type": "code",
   "execution_count": null,
   "metadata": {},
   "outputs": [],
   "source": []
  }
 ],
 "metadata": {
  "kernelspec": {
   "display_name": "Python 3",
   "language": "python",
   "name": "python3"
  },
  "language_info": {
   "codemirror_mode": {
    "name": "ipython",
    "version": 3
   },
   "file_extension": ".py",
   "mimetype": "text/x-python",
   "name": "python",
   "nbconvert_exporter": "python",
   "pygments_lexer": "ipython3",
   "version": "3.6.10"
  }
 },
 "nbformat": 4,
 "nbformat_minor": 4
}
